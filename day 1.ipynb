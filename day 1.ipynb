{
 "cells": [
  {
   "cell_type": "markdown",
   "metadata": {},
   "source": [
    "# 第三章 ブラウン運動"
   ]
  },
  {
   "cell_type": "markdown",
   "metadata": {},
   "source": [
    "### 3.2.1 対称ランダムウォーク"
   ]
  },
  {
   "cell_type": "markdown",
   "metadata": {},
   "source": [
    "公正な一連のコイン投げの結果を$$\\omega = \\omega_1\\omega_2\\omega_3\\cdots$$と表す.\n",
    "$\\omega$は無限数列. $\\omega_n$はn番目のコイン投げの結果を表す."
   ]
  },
  {
   "cell_type": "markdown",
   "metadata": {},
   "source": [
    "ここで, $X_j = 1$ if  $\\omega_j = H$ $X_j = -1$ if $\\omega_j = T$ と定義し, $M_0$ = 0として確率過程$M_k$ を以下で定義する."
   ]
  },
  {
   "cell_type": "markdown",
   "metadata": {},
   "source": [
    "$$M_k = \\sum^k_{j = 1} X_j, \\ \\ k = 1, 2, \\ldots$$"
   ]
  },
  {
   "cell_type": "markdown",
   "metadata": {},
   "source": [
    "### 3.2.2 対称ランダムウォークの増分"
   ]
  },
  {
   "cell_type": "markdown",
   "metadata": {},
   "source": [
    "ランダムウォークは独立増分を持つ. つまり任意の非負の整数$0 = k_0 < k_1 < \\cdots < k_m$　に対して以下に示す確率変数(増分)が独立になる."
   ]
  },
  {
   "cell_type": "markdown",
   "metadata": {},
   "source": [
    "$$ M_{k_1} = (M_{k_1} - M_{k_0}), \\ \\ (M_{k_2} - M_{k_1}), \\ldots , \\ \\ (M_{k_m} - M_{k_{m-1}})$$"
   ]
  },
  {
   "cell_type": "markdown",
   "metadata": {},
   "source": [
    "それぞれの増分$M_{k_{i+1}}  - M_{k_i} = \\sum^{k_{i+1}}_{j = k_i + 1} X_j$は異なるコイン投げの結果に従うので独立."
   ]
  },
  {
   "cell_type": "markdown",
   "metadata": {},
   "source": [
    "それぞれ期待値0で分散$k_{i+1} - k_i$"
   ]
  },
  {
   "cell_type": "markdown",
   "metadata": {},
   "source": [
    "***\n",
    "* $\\mathcal{F}$が$\\sigma$加法族とは次を満たすこと\n",
    "\n",
    "(i) $\\emptyset \\in \\mathcal{F}$\n",
    "\n",
    "(ii) $A \\in \\mathcal{F} \\Rightarrow A^c \\in \\mathcal{F}$\n",
    "\n",
    "(iii) $A_1, A_2, \\ldots \\in \\mathcal{F} \\Rightarrow \\bigcup_{n=1}^\\infty A_n \\in \\mathcal{F}$"
   ]
  },
  {
   "cell_type": "markdown",
   "metadata": {},
   "source": [
    "***\n",
    "\n",
    "$\\Omega$を空でない集合とする. Tを正の定数とし, $\\forall t \\in [0, T]$に対し$\\sigma$加法族$\\mathcal{F}(t)$が存在するとする. さらに$s\\leq t$なら$\\mathcal{F}(s)$に属するすべての集合は$\\mathcal{F}(t)$にも属すると仮定する. このとき$\\sigma$加法族の集まり$\\mathcal{F}(t), \\ \\ 0 \\leq t \\leq T$をフィルトレーションと呼ぶ. (第二章)"
   ]
  },
  {
   "cell_type": "markdown",
   "metadata": {},
   "source": [
    "例"
   ]
  },
  {
   "cell_type": "markdown",
   "metadata": {},
   "source": [
    "***\n",
    "\n",
    "Xを確率変数とする. $\\Omega$の部分集合で$\\{\\omega \\in \\Omega; X(\\omega) \\in B\\}$という形をしたものすべての集まりを, Xによって生成される$\\sigma$加法族$\\sigma(X)$と表す. \n",
    "ただしBは$\\mathbb{R}$のあらゆるボレル集合.\n",
    "\n",
    "たとえば$[0, 1] \\in \\mathbb{R}$のあらゆる開区間に無限和, 無限積, 補集合などの演算を加える事で得られる集合族をボレル加法族といい, $\\mathcal{B}[0, 1]$などと表す. ボレル集合はこの元のこと."
   ]
  },
  {
   "cell_type": "markdown",
   "metadata": {},
   "source": [
    "***\n",
    "\n",
    "$\\mathcal{G}$を$\\Omega$の部分集合からなる$\\sigma$加法族とする. $\\sigma(X)$に属するすべての集合が$\\mathcal{G}$に属するとき, Xは$\\mathcal{G}$可測であるという."
   ]
  },
  {
   "cell_type": "markdown",
   "metadata": {},
   "source": [
    "### 3.2.3 対称ランダムウォークのマルチンゲール性"
   ]
  },
  {
   "cell_type": "markdown",
   "metadata": {},
   "source": [
    "$$E[M_l \\mid \\mathcal{F_k}] = M_k$$"
   ]
  },
  {
   "cell_type": "markdown",
   "metadata": {},
   "source": [
    "$E[X \\mid \\mathcal{F_k}]$は時刻k での情報に基づく条件付き確率. $\\mathcal{F_k}$は最初のk回のコイン投げに対応する情報の$\\sigma$加法族."
   ]
  },
  {
   "cell_type": "markdown",
   "metadata": {},
   "source": [
    "### 3.2.4 対称ランダムウォークの二次変分"
   ]
  },
  {
   "cell_type": "markdown",
   "metadata": {},
   "source": [
    "時刻kまでの二次変分を $$[M, M]_k = \\sum^k_{j = 1} (M_j - M_{j - 1})^2  $$と定義する.\n",
    "\n",
    "二次変分は対称ランダムウォークの場合実現した経路に依存しないでk となる."
   ]
  },
  {
   "cell_type": "markdown",
   "metadata": {},
   "source": [
    "### 3.2.5 大きさ調整された対称ランダムウォーク"
   ]
  },
  {
   "cell_type": "markdown",
   "metadata": {},
   "source": [
    "大きさ調整(ランダムウォークの時間の流れを細かく)された対称ランダムウォークを次のように定義する."
   ]
  },
  {
   "cell_type": "markdown",
   "metadata": {},
   "source": [
    "$n$ を自然数として, $nt$ が整数の時は,\n",
    "$$ W^{(n)}(t) = \\frac{1}{\\sqrt{n}} M_{nt}$$\n",
    "$nt$が整数でない時には線形補完する."
   ]
  },
  {
   "cell_type": "markdown",
   "metadata": {},
   "source": [
    "ランダムウォークと同様に大きさ調整されたランダムウォークも独立した増分を持つ. またマルチンゲール性も同様."
   ]
  },
  {
   "cell_type": "markdown",
   "metadata": {},
   "source": [
    "$nt$が整数であるような$t \\geq 0$に対し\n",
    "$$[W^{(n)}, W^{(n)}](t) = \\sum^{nt}_{j = 1}\\biggl[ W^{(n)}(j/n) - W^{(n)}((j-1)/n))\\biggr]^2$$\n",
    "$$= \\sum^{nt}_{j=1}\\biggl[\\frac{1}{\\sqrt n} X_j\\biggr]^2 = t$$"
   ]
  },
  {
   "cell_type": "markdown",
   "metadata": {},
   "source": [
    "### 3.2.6 大きさ調整された対称ランダムウォークの極限分布"
   ]
  },
  {
   "cell_type": "markdown",
   "metadata": {},
   "source": [
    "--> 図\n",
    "\n",
    "中心極限定理\n",
    "\n",
    "$t\\geq 0$を固定する. $n\\rightarrow \\infty$とするとき, 時刻tで観測される大きさ調整されたランダムウォークW^{(n)}(t)の分布は, 平均ゼロで分散t の正規分布に収束する."
   ]
  },
  {
   "cell_type": "markdown",
   "metadata": {},
   "source": [
    "証明 --> 黒板"
   ]
  },
  {
   "cell_type": "markdown",
   "metadata": {},
   "source": [
    "### 3.2.7 二項モデルの極限としての対数正規分布"
   ]
  },
  {
   "cell_type": "markdown",
   "metadata": {},
   "source": [
    "nを整数とし, 単位時間あたりnステップとなる株価の二項モデルを考える.\n",
    "上昇率$u_n = 1 + \\sigma/\\sqrt n$, 下落率$d_n = 1 - \\sigma/\\sqrt n$とする. ただし$\\sigma$ は正の定数."
   ]
  },
  {
   "cell_type": "markdown",
   "metadata": {},
   "source": [
    "二項モデルでの時刻tでの株価$S_n(t)$は,\n",
    "$$\n",
    "S_n(t) = S(0)u_n^{H_{nt}} d_n^{T_{nt}} = S(0) \\biggl( 1 + \\frac{\\sigma}{\\sqrt n}\\biggr) ^{1/2(nt + M_{nt})}\\biggl( 1 - \\frac{\\sigma}{\\sqrt n}\\biggr) ^{1/2(nt - M_{nt})}\n",
    "$$"
   ]
  },
  {
   "cell_type": "markdown",
   "metadata": {},
   "source": [
    "$n \\rightarrow \\infty$としたとき, $S_n(t)$　の分布は$S(t) = S(0) \\exp\\biggl\\{ \\sigma W(t) - \\frac{1}{2}\\sigma^2 t\\biggr\\}$に収束する.\n",
    "\n",
    "ここで, W(t)は平均0 分散tの正規確率変数である."
   ]
  },
  {
   "cell_type": "markdown",
   "metadata": {},
   "source": [
    "証明　--> 黒板"
   ]
  },
  {
   "cell_type": "markdown",
   "metadata": {},
   "source": [
    "### 3.3.1 ブラウン運動の定義"
   ]
  },
  {
   "cell_type": "markdown",
   "metadata": {},
   "source": [
    "大きさ調整された対称ランダムウォーク\n",
    "\n",
    "$$ W^{(n)}(t) = \\frac{1}{\\sqrt{n}} M_{nt}$$\n",
    "の$n\\rightarrow \\infty$による極限としてブラウン運動を得る."
   ]
  },
  {
   "cell_type": "markdown",
   "metadata": {},
   "source": [
    "$(\\Omega, F, P)$を確率空間とする. 各$\\omega \\in \\Omega$に対して, $W(0) = 0$を満たし, $\\omega$に依存する連続関数W(t), $t\\geq 0$ が存在すると仮定する. このとき$W(t), \\ \\ t \\geq 0$がブラウン運動であるとは,\n",
    "\n",
    "* 任意の$ 0 = t_0 < t_1 < \\cdots < t_m$に対し, 増分$W(t_1) = W(t_1) - W(t_0), \\ \\ W(t_2) - W(t_1), \\ldots, W(t_m) - W(t_{m-1})$が独立で, これらの増分それぞれが正規分布\n",
    "\n",
    "* $$\n",
    "E[W(t_{i+1}) - W(t_i)] = 0\n",
    "$$\n",
    "\n",
    "* $$\n",
    "\\mathrm{Var}[W(t_{i+1}) - W(t_i)] = t_{i+1} - t_i\n",
    "$$"
   ]
  },
  {
   "cell_type": "markdown",
   "metadata": {},
   "source": [
    "$\\omega$の解釈\n",
    "\n",
    "1) 無作為の試行の結果がブラウン運動の経路であり, $W(t)$は時刻ｔでの経路の値.\n",
    "\n",
    "2) 無限回のコイン投げの結果"
   ]
  },
  {
   "cell_type": "markdown",
   "metadata": {},
   "source": [
    "### 3.3.2 ブラウン運動の分布"
   ]
  },
  {
   "cell_type": "markdown",
   "metadata": {},
   "source": [
    "$W(t_1), W(t_2), \\ldots, W(t_m)$は同時正規分布である. この共分散行列は次のようになる."
   ]
  },
  {
   "cell_type": "markdown",
   "metadata": {},
   "source": [
    "$0 \\leq \\forall s < \\forall t$に対し, \n",
    "$$\n",
    "E[W(s)W(t)] = E[W(s)(W(t) - W(s)) + W(s)^2] = E[W(s)]E[W(t) - W(s)] + E[W^2(s)] = s\n",
    "$$\n",
    "であるので, \n",
    "$$\n",
    "\\[A = \\left[\n",
    "    \\begin{array}{cccc}\n",
    "      t_1 & t_1 & \\ldots & t_1 \\\\\n",
    "      t_1 & t_2 & \\ldots & t_2 \\\\\n",
    "      \\vdots & \\vdots & \\ddots & \\vdots \\\\\n",
    "      t_1 & t_2 & \\ldots & t_m\n",
    "    \\end{array}\n",
    "  \\right]\n",
    "\\]\n",
    "$$"
   ]
  },
  {
   "cell_type": "markdown",
   "metadata": {},
   "source": [
    "この積率母関数は, $$\n",
    "\\phi(u_1, u_2, \\ldots, u_m) = \\exp\\biggl\\{\\frac{1}{2}u_m^2(t_m - t_{m-1})\\biggr\\}\\exp\\biggl\\{\\frac{1}{2}(u_{m-1} + u_m)^2(t_{m-1} - t_{m-2})\\biggr\\}\\cdots \\exp\\biggl\\{\\frac{1}{2}(u_1 + u_2 + \\cdots + u_m)^2(t_1 - t_0)\\biggr\\}\n",
    "$$"
   ]
  },
  {
   "cell_type": "markdown",
   "metadata": {},
   "source": [
    "ブラウン運動の特徴付け\n",
    "\n",
    "$(\\Omega, F, P)$を確率空間とする. 各$\\omega \\in \\Omega$に対して, W(0) = 0を満たし, $\\omega$に依存する連続関数W(t), $t\\geq 0$ が存在すると仮定する.  次の３つの性質は同値である.\n",
    "\n",
    "(i)すべての$0 = t_0 < t_1 < \\cdots < t_m$に対し, 増分$W(t_1) = W(t_1) - W(t_0), W(t_2) - W(t_1), \\ldots, W(t_m) - W(t_{m-1})$が独立で, これらの各増分は\n",
    "\n",
    "$$\n",
    "E[W(t_{i+1}) - W(t_i)] = 0\n",
    "$$\n",
    "$$\n",
    "\\mathrm{Var}[W(t_{i+1}) - W(t_i)] = t_{i+1} - t_i\n",
    "$$\n",
    "を満たす正規分布に従う.\n",
    "\n",
    "(ii)すべての$0 = t_0 < t_1 < \\cdots < t_m$に対し, 確率変数$W(t_1), W(t_2), \\ldots, W(t_m)$は平均0で上の共分散行列をもつ同時正規分布に従う.\n",
    "\n",
    "(iii)すべての$0 = t_0 < t_1 < \\cdots < t_m$に対し, 確率変数$W(t_1), W(t_2), \\ldots, W(t_m)$は上の同時積率母関数をもつ.\n",
    "\n",
    "どれか一つが満たされれば$W(t),\\ \\ t \\geq 0$はブラウン運動である."
   ]
  },
  {
   "cell_type": "markdown",
   "metadata": {},
   "source": [
    "### 3.3.3 ブラウン運動に対するフィルトレーション"
   ]
  },
  {
   "cell_type": "markdown",
   "metadata": {},
   "source": [
    "$(\\Omega, F, P)$を確率空間とし, その上にブラウン運動$W(t),\\ \\ t\\geq 0$が定義されているとする. ブラウン運動に対するフィルトレーションは, 以下を満たす$\\sigma$加法族$F(t),\\ \\ t\\geq 0$の集合である.\n",
    "\n",
    "(i)　情報の蓄積\n",
    "\n",
    "$0 \\leq s < t$に対し, $F(s)$に属するすべての集合はまた, $F(t)$にも属する. \n",
    "\n",
    "(ii) 適合性\n",
    "\n",
    "各$t \\geq 0$ に対して, 時刻tのブラウン運動W(t)は$F(t)$可測である. \n",
    "\n",
    "(iii) 将来の増分の独立性\n",
    "\n",
    "$0 \\leq t < u$に対し, 増分W(u)　- W(t) は$F(t)$と独立である. "
   ]
  },
  {
   "cell_type": "markdown",
   "metadata": {},
   "source": [
    "### 3.3.4 ブラウン運動のマルチンゲール性"
   ]
  },
  {
   "cell_type": "markdown",
   "metadata": {},
   "source": [
    "ブラウン運動はマルチンゲールである. "
   ]
  },
  {
   "cell_type": "markdown",
   "metadata": {},
   "source": [
    "### 3.4.1 一次変分"
   ]
  },
  {
   "cell_type": "markdown",
   "metadata": {},
   "source": [
    "一般に, 時刻Tまでの関数の一次変分FV_T(f)を次のように定義する. $[0, T]$の分割を$\\Pi = \\{0 = t_0, t_1, \\ldots, t_n = T\\}$とする.\n",
    "\n",
    "$$\n",
    "FV_T(f) = \\lim_{\\|\\Pi\\| \\rightarrow 0} \\sum^{n - 1}_{j = 0}|f(t_{j+1}) - f(t_j)|\n",
    "$$\n",
    "\n",
    "ただし$\\|\\Pi\\|$は最大の分割幅."
   ]
  },
  {
   "cell_type": "markdown",
   "metadata": {},
   "source": [
    "いたるところで微分可能な関数fに対しては, $FV_T(f) = \\int^T_{0} | f'(t)|dt$ となる. 証明 --> 黒板"
   ]
  },
  {
   "cell_type": "markdown",
   "metadata": {},
   "source": [
    "### 3.4.2 二次変分"
   ]
  },
  {
   "cell_type": "markdown",
   "metadata": {},
   "source": [
    "$0\\leq t \\leq T$ で定義された関数f(t)の, 時刻Tまでの二次変分を次で定義する.\n",
    "\n",
    "$$\n",
    "[f, f](T) = \\lim_{\\|\\Pi\\|\\rightarrow 0} \\sum^{n-1}_{j = 0} [f(t_{j+1}) - f(t_j)]^2\n",
    "$$\n",
    "\n",
    "関数$f$が連続微分可能なら, \n",
    "$[f, f](T) = 0$\n",
    "証明 --> 黒板"
   ]
  },
  {
   "cell_type": "markdown",
   "metadata": {},
   "source": [
    "$W$をブラウン運動とする. このとき, すべての$T \\geq 0$に対して, ほとんど確実に$[W, W](T) = T$である.  証明 --> 黒板"
   ]
  },
  {
   "cell_type": "markdown",
   "metadata": {},
   "source": [
    "さらに, \n",
    "* $$\n",
    "\\lim_{\\|\\Pi\\|\\rightarrow 0} \\sum^{n-1}_{j = 0} (W(t_{j+1}) - W(t_j))(t_{j +1} - t_j) = 0\n",
    "$$\n",
    "\n",
    "* $$\n",
    "\\lim_{\\|\\Pi\\|\\rightarrow 0} \\sum^{n-1}_{j = 0} (t_{j +1} - t_j)^2 = 0\n",
    "$$"
   ]
  },
  {
   "cell_type": "markdown",
   "metadata": {},
   "source": [
    "証明 --> 黒板"
   ]
  },
  {
   "cell_type": "markdown",
   "metadata": {},
   "source": [
    "### 3.4.3 幾何ブラウン運動のボラティリティ"
   ]
  },
  {
   "cell_type": "markdown",
   "metadata": {},
   "source": [
    "$\\alpha $と$\\sigma > 0$を定数として, 幾何ブラウン運動を次で定義する.\n",
    "$$\n",
    "S(t) = S(0) \\exp \\biggl\\{\\sigma W(t) + \\biggl( \\alpha - \\frac{1}{2} \\sigma^2\\biggr)t\\biggr\\}\n",
    "$$\n"
   ]
  },
  {
   "cell_type": "markdown",
   "metadata": {},
   "source": [
    "この過程の二次変分から$\\sigma$を特定できる.\n",
    "\n",
    "$0 \\leq T_1 < T_2$を所与とし, 幾何ブラウン運動S(t) を, $T_1 \\leq t \\leq T_2$について観測すると仮定する. この期間のある分割$T_1 = t_0 < t_1 \\cdots < t_m =T_2$を選び, 対数収益\n",
    "$$\n",
    "\\log\\frac{S(t_{j+1})}{S(t_j)} = \\sigma(W(t_{j+1}) - W(t_j)) + \\biggl(\\alpha - \\frac{1}{2}\\sigma^2\\biggr) (t_{j + 1} - t_j)\n",
    "$$\n",
    "を各部分期間$[t_j, t_{j+1}]$で観測する. 実現ボラティリティは\n",
    "\n",
    "$$\n",
    "\\sum^{m - 1}_{j = 0} \\biggl(\\log\\frac{S(t_{j+1})}{S(t_j)}\\biggr) = \\sigma^2\\sum^{m - 1}_{j = 0}(W(t_{j+1}) - W(t_j))^2 + \\biggl(\\alpha - \\frac{1}{2}\\sigma^2\\biggr)^2 \\sum^{m - 1}_{j = 0}(t_{j+1} - t_j)^2 + 2\\sigma\\biggl(\\alpha - \\frac{1}{2}\\sigma^2\\biggr)\\sum^{m - 1}_{j = 0}(W(t_{j+1} - W(t_j))(t_{j+1} - t_j)\n",
    "$$"
   ]
  },
  {
   "cell_type": "markdown",
   "metadata": {},
   "source": [
    "分割の幅$\\| \\Pi \\|$が小さい時、 3.4.2節より, \n",
    "$$\n",
    "\\frac{1}{T_2 - T_1}\\sum^{m - 1}_{j = 0}\\biggl(\\log\\frac{S(t_{j+1})}{S(t_j)}\\biggr)^2 \\simeq \\sigma^2\n",
    "$$\n",
    "となる."
   ]
  }
 ],
 "metadata": {
  "kernelspec": {
   "display_name": "Julia 0.4.6",
   "language": "julia",
   "name": "julia-0.4"
  },
  "language_info": {
   "file_extension": ".jl",
   "mimetype": "application/julia",
   "name": "julia",
   "version": "0.4.6"
  }
 },
 "nbformat": 4,
 "nbformat_minor": 0
}
